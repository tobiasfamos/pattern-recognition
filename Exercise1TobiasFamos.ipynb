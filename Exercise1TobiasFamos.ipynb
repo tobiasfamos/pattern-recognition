{
 "cells": [
  {
   "cell_type": "markdown",
   "source": [
    "# First Exercise for Pattern Recognition\n",
    "\n",
    "**Goal:** Implement a KNN (K nearest neighbour) classification algorithm from scratch\n",
    "\n",
    "## Overview of the approach\n",
    "1. Read the data from the MNIST Dataset\n",
    "2. Write KNN Classification Algorithm\n",
    "4. Run the classification function over the train set to parametrise the mode\n",
    "5. Test the outcome with the test set"
   ],
   "metadata": {
    "collapsed": false
   }
  },
  {
   "cell_type": "markdown",
   "source": [
    "Import needed packages"
   ],
   "metadata": {
    "collapsed": false
   }
  },
  {
   "cell_type": "code",
   "execution_count": 1,
   "outputs": [],
   "source": [
    "import numpy\n",
    "from math import sqrt, pow\n",
    "import time\n",
    "from scipy import spatial\n"
   ],
   "metadata": {
    "collapsed": false,
    "pycharm": {
     "name": "#%%\n"
    }
   }
  },
  {
   "cell_type": "markdown",
   "source": [
    "Define Reading function for file paths"
   ],
   "metadata": {
    "collapsed": false
   }
  },
  {
   "cell_type": "code",
   "execution_count": 2,
   "metadata": {
    "collapsed": true
   },
   "outputs": [],
   "source": [
    "def readMnistData(filePath):\n",
    "    return numpy.genfromtxt(filePath, delimiter=\",\")"
   ]
  },
  {
   "cell_type": "code",
   "execution_count": 3,
   "outputs": [],
   "source": [
    "def getClassification(mnistDataEntry: numpy.ndarray):\n",
    "    return mnistDataEntry[0]\n",
    "\n",
    "def getMnistData(mnistDataEntry: numpy.ndarray):\n",
    "    return numpy.delete(mnistDataEntry, [0])"
   ],
   "metadata": {
    "collapsed": false,
    "pycharm": {
     "name": "#%%\n"
    }
   }
  },
  {
   "cell_type": "markdown",
   "source": [
    "Define finding the euclidean distance"
   ],
   "metadata": {
    "collapsed": false
   }
  },
  {
   "cell_type": "code",
   "execution_count": 4,
   "outputs": [],
   "source": [
    "def euclideanDistance(vectorA: numpy.ndarray, vectorB: numpy.ndarray):\n",
    "    return numpy.sum(numpy.sqrt(numpy.power(vectorA - vectorB, 2)))\n"
   ],
   "metadata": {
    "collapsed": false,
    "pycharm": {
     "name": "#%%\n"
    }
   }
  },
  {
   "cell_type": "markdown",
   "source": [
    "Read the train file"
   ],
   "metadata": {
    "collapsed": false
   }
  },
  {
   "cell_type": "code",
   "execution_count": 5,
   "outputs": [
    {
     "name": "stdout",
     "output_type": "stream",
     "text": [
      "9.0\n"
     ]
    }
   ],
   "source": [
    "train = readMnistData(\"train.csv\")\n",
    "trainClassification = train[:, 0]\n",
    "trainData = train[:, 1:]\n",
    "\n",
    "testDataSet = readMnistData(\"test.csv\")\n",
    "testData = testDataSet[:,1:]\n",
    "testClassification = testDataSet[:, 0]\n",
    "print(testClassification.max())"
   ],
   "metadata": {
    "collapsed": false,
    "pycharm": {
     "name": "#%%\n"
    }
   }
  },
  {
   "cell_type": "markdown",
   "source": [
    "First try to brute force one classification"
   ],
   "metadata": {
    "collapsed": false
   }
  },
  {
   "cell_type": "markdown",
   "source": [
    "## Brute force Iterative\n",
    "Here follows the first try with just a brute force approach with no optimizations. The programm runs extremely slow."
   ],
   "metadata": {
    "collapsed": false
   }
  },
  {
   "cell_type": "code",
   "execution_count": 26,
   "outputs": [],
   "source": [
    "def bruteforce1nn(toClassify: numpy.ndarray, trainSet: numpy.ndarray):\n",
    "    withoutClassification = getMnistData(toClassify)\n",
    "    smallestDistance = 100000\n",
    "    bestCurrentClassifier = -1\n",
    "    for currentIndex in range(0, len(trainSet)):\n",
    "        currentTrainData = trainDataSet[currentIndex]\n",
    "        currentDistance = euclideanDistance(getMnistData(currentTrainData), withoutClassification)\n",
    "        if smallestDistance > currentDistance:\n",
    "            smallestDistance = currentDistance\n",
    "            bestCurrentClassifier = getClassification(currentTrainData)\n",
    "    return bestCurrentClassifier\n",
    "\n",
    "\n",
    "def checkClassification(classification, toClassify: numpy.ndarray):\n",
    "    return classification == getClassification(toClassify)"
   ],
   "metadata": {
    "collapsed": false,
    "pycharm": {
     "name": "#%%\n"
    }
   }
  },
  {
   "cell_type": "code",
   "execution_count": 33,
   "outputs": [],
   "source": [
    "def getTimeApproxPerClassification(functionToTime, trainDataSetToUse):\n",
    "    start = time.time()\n",
    "    for index, currentDataSet in enumerate(testDataSet):\n",
    "        functionToTime(currentDataSet, trainDataSetToUse)\n",
    "        print(index)\n",
    "    end = time.time()\n",
    "    print(end - start)\n",
    "    return (end - start)/100"
   ],
   "metadata": {
    "collapsed": false,
    "pycharm": {
     "name": "#%%\n"
    }
   }
  },
  {
   "cell_type": "code",
   "execution_count": 34,
   "outputs": [
    {
     "name": "stdout",
     "output_type": "stream",
     "text": [
      "0\n",
      "1\n",
      "2\n",
      "3\n",
      "4\n",
      "5\n",
      "6\n",
      "7\n",
      "8\n",
      "9\n",
      "10\n",
      "11\n",
      "12\n",
      "13\n",
      "14\n",
      "15\n",
      "16\n",
      "17\n",
      "18\n",
      "19\n",
      "20\n",
      "21\n",
      "22\n",
      "23\n",
      "24\n",
      "25\n",
      "26\n",
      "27\n",
      "28\n",
      "29\n",
      "30\n",
      "31\n",
      "32\n",
      "33\n",
      "34\n",
      "35\n",
      "36\n",
      "37\n",
      "38\n",
      "39\n",
      "40\n",
      "41\n",
      "42\n",
      "43\n",
      "44\n",
      "45\n",
      "46\n",
      "47\n",
      "48\n",
      "49\n",
      "50\n",
      "51\n",
      "52\n",
      "53\n",
      "54\n",
      "55\n",
      "56\n",
      "57\n",
      "58\n",
      "59\n",
      "60\n",
      "61\n",
      "62\n",
      "63\n",
      "64\n",
      "65\n",
      "66\n",
      "67\n",
      "68\n",
      "69\n",
      "70\n",
      "71\n",
      "72\n",
      "73\n",
      "74\n",
      "75\n",
      "76\n",
      "77\n",
      "78\n",
      "79\n",
      "80\n",
      "81\n",
      "82\n",
      "83\n",
      "84\n",
      "85\n",
      "86\n",
      "87\n",
      "88\n",
      "89\n",
      "90\n",
      "91\n",
      "92\n",
      "93\n",
      "94\n",
      "95\n",
      "96\n",
      "97\n",
      "98\n",
      "99\n",
      "49.63020205497742\n"
     ]
    },
    {
     "data": {
      "text/plain": "0.4963020205497742"
     },
     "execution_count": 34,
     "metadata": {},
     "output_type": "execute_result"
    }
   ],
   "source": [
    "getTimeApproxPerClassification(bruteforce1nn, trainDataSet)"
   ],
   "metadata": {
    "collapsed": false,
    "pycharm": {
     "name": "#%%\n"
    }
   }
  },
  {
   "cell_type": "code",
   "execution_count": 37,
   "outputs": [
    {
     "name": "stdout",
     "output_type": "stream",
     "text": [
      "Total number of Test cases: 15001\n",
      "0: c: 1 f: 0\n",
      "1: c: 2 f: 0\n",
      "2: c: 3 f: 0\n",
      "3: c: 4 f: 0\n",
      "4: c: 5 f: 0\n",
      "5: c: 6 f: 0\n",
      "6: c: 7 f: 0\n",
      "7: c: 8 f: 0\n",
      "8: c: 9 f: 0\n",
      "9: c: 10 f: 0\n",
      "10: c: 11 f: 0\n",
      "11: c: 12 f: 0\n",
      "12: c: 13 f: 0\n",
      "13: c: 14 f: 0\n",
      "14: c: 15 f: 0\n",
      "15: c: 16 f: 0\n",
      "16: c: 17 f: 0\n",
      "17: c: 18 f: 0\n",
      "18: c: 19 f: 0\n",
      "19: c: 20 f: 0\n",
      "20: c: 21 f: 0\n",
      "21: c: 22 f: 0\n",
      "22: c: 23 f: 0\n",
      "23: c: 24 f: 0\n",
      "24: c: 25 f: 0\n",
      "25: c: 26 f: 0\n",
      "26: c: 27 f: 0\n",
      "27: c: 28 f: 0\n",
      "28: c: 29 f: 0\n",
      "29: c: 30 f: 0\n",
      "30: c: 31 f: 0\n",
      "31: c: 32 f: 0\n",
      "32: c: 33 f: 0\n",
      "33: c: 34 f: 0\n",
      "34: c: 35 f: 0\n",
      "35: c: 35 f: 1\n",
      "36: c: 36 f: 1\n",
      "37: c: 37 f: 1\n",
      "38: c: 38 f: 1\n",
      "39: c: 39 f: 1\n",
      "40: c: 40 f: 1\n",
      "41: c: 41 f: 1\n",
      "42: c: 41 f: 2\n",
      "43: c: 42 f: 2\n",
      "44: c: 42 f: 3\n",
      "45: c: 43 f: 3\n",
      "46: c: 44 f: 3\n",
      "47: c: 45 f: 3\n",
      "48: c: 46 f: 3\n",
      "49: c: 47 f: 3\n",
      "50: c: 48 f: 3\n",
      "51: c: 49 f: 3\n",
      "52: c: 50 f: 3\n",
      "53: c: 51 f: 3\n",
      "54: c: 52 f: 3\n",
      "55: c: 53 f: 3\n",
      "56: c: 54 f: 3\n",
      "57: c: 55 f: 3\n",
      "58: c: 56 f: 3\n",
      "59: c: 57 f: 3\n",
      "60: c: 58 f: 3\n",
      "61: c: 59 f: 3\n",
      "62: c: 60 f: 3\n",
      "63: c: 61 f: 3\n",
      "64: c: 61 f: 4\n",
      "65: c: 62 f: 4\n",
      "66: c: 63 f: 4\n",
      "67: c: 64 f: 4\n",
      "68: c: 65 f: 4\n",
      "69: c: 66 f: 4\n",
      "70: c: 67 f: 4\n",
      "71: c: 68 f: 4\n",
      "72: c: 69 f: 4\n",
      "73: c: 70 f: 4\n",
      "74: c: 71 f: 4\n",
      "75: c: 72 f: 4\n",
      "76: c: 73 f: 4\n",
      "77: c: 73 f: 5\n",
      "78: c: 74 f: 5\n",
      "79: c: 75 f: 5\n",
      "80: c: 76 f: 5\n",
      "81: c: 77 f: 5\n",
      "82: c: 78 f: 5\n",
      "83: c: 79 f: 5\n",
      "84: c: 80 f: 5\n",
      "85: c: 81 f: 5\n",
      "86: c: 82 f: 5\n",
      "87: c: 83 f: 5\n",
      "88: c: 84 f: 5\n",
      "89: c: 85 f: 5\n",
      "90: c: 85 f: 6\n",
      "91: c: 86 f: 6\n",
      "92: c: 87 f: 6\n",
      "93: c: 88 f: 6\n",
      "94: c: 89 f: 6\n",
      "95: c: 90 f: 6\n",
      "96: c: 91 f: 6\n",
      "97: c: 92 f: 6\n",
      "98: c: 93 f: 6\n",
      "99: c: 94 f: 6\n",
      "100: c: 95 f: 6\n",
      "101: c: 96 f: 6\n",
      "102: c: 97 f: 6\n",
      "103: c: 98 f: 6\n",
      "104: c: 99 f: 6\n",
      "105: c: 100 f: 6\n",
      "106: c: 101 f: 6\n",
      "107: c: 102 f: 6\n",
      "108: c: 103 f: 6\n",
      "109: c: 104 f: 6\n",
      "110: c: 105 f: 6\n",
      "111: c: 105 f: 7\n",
      "112: c: 106 f: 7\n",
      "113: c: 107 f: 7\n",
      "114: c: 108 f: 7\n",
      "115: c: 109 f: 7\n",
      "116: c: 110 f: 7\n",
      "117: c: 111 f: 7\n",
      "118: c: 112 f: 7\n",
      "119: c: 113 f: 7\n",
      "120: c: 114 f: 7\n",
      "121: c: 115 f: 7\n",
      "122: c: 116 f: 7\n",
      "123: c: 116 f: 8\n",
      "124: c: 117 f: 8\n",
      "125: c: 118 f: 8\n",
      "126: c: 118 f: 9\n",
      "127: c: 119 f: 9\n",
      "128: c: 120 f: 9\n",
      "129: c: 121 f: 9\n",
      "130: c: 122 f: 9\n",
      "131: c: 123 f: 9\n",
      "132: c: 124 f: 9\n",
      "133: c: 125 f: 9\n",
      "134: c: 126 f: 9\n",
      "135: c: 126 f: 10\n",
      "136: c: 127 f: 10\n",
      "137: c: 128 f: 10\n",
      "138: c: 129 f: 10\n",
      "139: c: 130 f: 10\n",
      "140: c: 131 f: 10\n",
      "141: c: 131 f: 11\n",
      "142: c: 132 f: 11\n",
      "143: c: 133 f: 11\n",
      "144: c: 134 f: 11\n",
      "145: c: 135 f: 11\n",
      "146: c: 136 f: 11\n",
      "147: c: 137 f: 11\n",
      "148: c: 138 f: 11\n",
      "149: c: 139 f: 11\n",
      "150: c: 140 f: 11\n",
      "151: c: 141 f: 11\n",
      "152: c: 142 f: 11\n",
      "153: c: 143 f: 11\n",
      "154: c: 144 f: 11\n",
      "155: c: 144 f: 12\n",
      "156: c: 145 f: 12\n",
      "157: c: 146 f: 12\n",
      "158: c: 147 f: 12\n",
      "159: c: 148 f: 12\n",
      "160: c: 149 f: 12\n",
      "161: c: 150 f: 12\n",
      "162: c: 151 f: 12\n",
      "163: c: 152 f: 12\n",
      "164: c: 153 f: 12\n",
      "165: c: 154 f: 12\n",
      "166: c: 155 f: 12\n",
      "167: c: 156 f: 12\n",
      "168: c: 157 f: 12\n",
      "169: c: 158 f: 12\n",
      "170: c: 159 f: 12\n",
      "171: c: 160 f: 12\n",
      "172: c: 161 f: 12\n",
      "173: c: 162 f: 12\n",
      "174: c: 163 f: 12\n",
      "175: c: 164 f: 12\n",
      "176: c: 165 f: 12\n",
      "177: c: 166 f: 12\n",
      "178: c: 167 f: 12\n",
      "179: c: 168 f: 12\n",
      "180: c: 169 f: 12\n",
      "181: c: 170 f: 12\n",
      "182: c: 171 f: 12\n",
      "183: c: 172 f: 12\n",
      "184: c: 173 f: 12\n",
      "185: c: 174 f: 12\n",
      "186: c: 175 f: 12\n",
      "187: c: 176 f: 12\n",
      "188: c: 177 f: 12\n",
      "189: c: 178 f: 12\n",
      "190: c: 179 f: 12\n",
      "191: c: 180 f: 12\n",
      "192: c: 181 f: 12\n",
      "193: c: 182 f: 12\n",
      "194: c: 183 f: 12\n",
      "195: c: 184 f: 12\n",
      "196: c: 185 f: 12\n",
      "197: c: 186 f: 12\n",
      "198: c: 187 f: 12\n",
      "199: c: 188 f: 12\n",
      "200: c: 189 f: 12\n",
      "201: c: 190 f: 12\n",
      "202: c: 191 f: 12\n",
      "203: c: 192 f: 12\n",
      "204: c: 193 f: 12\n",
      "205: c: 194 f: 12\n",
      "206: c: 195 f: 12\n",
      "207: c: 196 f: 12\n",
      "208: c: 197 f: 12\n",
      "209: c: 198 f: 12\n",
      "210: c: 199 f: 12\n",
      "211: c: 200 f: 12\n",
      "212: c: 200 f: 13\n",
      "213: c: 201 f: 13\n",
      "214: c: 202 f: 13\n",
      "215: c: 203 f: 13\n",
      "216: c: 204 f: 13\n",
      "217: c: 205 f: 13\n",
      "218: c: 205 f: 14\n",
      "219: c: 206 f: 14\n",
      "220: c: 207 f: 14\n",
      "221: c: 208 f: 14\n",
      "222: c: 209 f: 14\n",
      "223: c: 210 f: 14\n",
      "224: c: 211 f: 14\n",
      "225: c: 211 f: 15\n",
      "226: c: 212 f: 15\n",
      "227: c: 213 f: 15\n",
      "228: c: 214 f: 15\n",
      "229: c: 215 f: 15\n",
      "230: c: 216 f: 15\n",
      "231: c: 217 f: 15\n",
      "232: c: 218 f: 15\n",
      "233: c: 219 f: 15\n",
      "234: c: 220 f: 15\n",
      "235: c: 221 f: 15\n",
      "236: c: 222 f: 15\n",
      "237: c: 223 f: 15\n",
      "238: c: 224 f: 15\n",
      "239: c: 225 f: 15\n",
      "240: c: 226 f: 15\n",
      "241: c: 227 f: 15\n",
      "242: c: 228 f: 15\n",
      "243: c: 229 f: 15\n",
      "244: c: 230 f: 15\n",
      "245: c: 230 f: 16\n",
      "246: c: 231 f: 16\n",
      "247: c: 232 f: 16\n",
      "248: c: 233 f: 16\n",
      "249: c: 234 f: 16\n",
      "250: c: 235 f: 16\n",
      "251: c: 236 f: 16\n",
      "252: c: 237 f: 16\n",
      "253: c: 238 f: 16\n",
      "254: c: 239 f: 16\n",
      "255: c: 240 f: 16\n",
      "256: c: 241 f: 16\n",
      "257: c: 242 f: 16\n",
      "258: c: 243 f: 16\n",
      "259: c: 244 f: 16\n",
      "260: c: 245 f: 16\n",
      "261: c: 246 f: 16\n",
      "262: c: 247 f: 16\n",
      "263: c: 248 f: 16\n",
      "264: c: 249 f: 16\n",
      "265: c: 250 f: 16\n",
      "266: c: 251 f: 16\n",
      "267: c: 252 f: 16\n",
      "268: c: 253 f: 16\n",
      "269: c: 254 f: 16\n",
      "270: c: 255 f: 16\n",
      "271: c: 256 f: 16\n",
      "272: c: 257 f: 16\n",
      "273: c: 258 f: 16\n",
      "274: c: 259 f: 16\n",
      "275: c: 260 f: 16\n",
      "276: c: 261 f: 16\n",
      "277: c: 262 f: 16\n",
      "278: c: 263 f: 16\n",
      "279: c: 264 f: 16\n",
      "280: c: 264 f: 17\n",
      "281: c: 265 f: 17\n",
      "282: c: 266 f: 17\n",
      "283: c: 267 f: 17\n",
      "284: c: 268 f: 17\n",
      "285: c: 269 f: 17\n",
      "286: c: 270 f: 17\n",
      "287: c: 271 f: 17\n",
      "288: c: 272 f: 17\n",
      "289: c: 273 f: 17\n",
      "290: c: 274 f: 17\n",
      "291: c: 275 f: 17\n",
      "292: c: 276 f: 17\n",
      "293: c: 277 f: 17\n",
      "294: c: 278 f: 17\n",
      "295: c: 279 f: 17\n",
      "296: c: 280 f: 17\n",
      "297: c: 281 f: 17\n",
      "298: c: 282 f: 17\n",
      "299: c: 283 f: 17\n",
      "300: c: 284 f: 17\n",
      "301: c: 285 f: 17\n",
      "302: c: 286 f: 17\n",
      "303: c: 287 f: 17\n",
      "304: c: 288 f: 17\n",
      "305: c: 289 f: 17\n",
      "306: c: 290 f: 17\n",
      "307: c: 291 f: 17\n",
      "308: c: 292 f: 17\n",
      "309: c: 293 f: 17\n",
      "310: c: 294 f: 17\n",
      "311: c: 295 f: 17\n",
      "312: c: 296 f: 17\n",
      "313: c: 297 f: 17\n",
      "314: c: 298 f: 17\n",
      "315: c: 299 f: 17\n",
      "316: c: 300 f: 17\n",
      "317: c: 301 f: 17\n",
      "318: c: 302 f: 17\n",
      "319: c: 303 f: 17\n",
      "320: c: 304 f: 17\n",
      "321: c: 305 f: 17\n",
      "322: c: 305 f: 18\n",
      "323: c: 306 f: 18\n",
      "324: c: 307 f: 18\n",
      "325: c: 308 f: 18\n",
      "326: c: 309 f: 18\n",
      "327: c: 310 f: 18\n",
      "328: c: 311 f: 18\n",
      "329: c: 312 f: 18\n",
      "330: c: 313 f: 18\n",
      "331: c: 314 f: 18\n",
      "332: c: 315 f: 18\n",
      "333: c: 316 f: 18\n",
      "334: c: 316 f: 19\n",
      "335: c: 317 f: 19\n",
      "336: c: 318 f: 19\n",
      "337: c: 319 f: 19\n",
      "338: c: 320 f: 19\n",
      "339: c: 321 f: 19\n",
      "340: c: 322 f: 19\n",
      "341: c: 323 f: 19\n",
      "342: c: 323 f: 20\n",
      "343: c: 324 f: 20\n",
      "344: c: 325 f: 20\n",
      "345: c: 326 f: 20\n",
      "346: c: 327 f: 20\n",
      "347: c: 328 f: 20\n",
      "348: c: 329 f: 20\n",
      "349: c: 330 f: 20\n",
      "350: c: 331 f: 20\n",
      "351: c: 332 f: 20\n",
      "352: c: 333 f: 20\n",
      "353: c: 334 f: 20\n",
      "354: c: 335 f: 20\n",
      "355: c: 336 f: 20\n",
      "356: c: 337 f: 20\n",
      "357: c: 338 f: 20\n",
      "358: c: 339 f: 20\n",
      "359: c: 340 f: 20\n",
      "360: c: 341 f: 20\n",
      "361: c: 342 f: 20\n",
      "362: c: 343 f: 20\n",
      "363: c: 344 f: 20\n",
      "364: c: 345 f: 20\n",
      "365: c: 346 f: 20\n",
      "366: c: 347 f: 20\n",
      "367: c: 348 f: 20\n",
      "368: c: 349 f: 20\n",
      "369: c: 350 f: 20\n",
      "370: c: 351 f: 20\n",
      "371: c: 352 f: 20\n",
      "372: c: 353 f: 20\n",
      "373: c: 354 f: 20\n",
      "374: c: 355 f: 20\n",
      "375: c: 356 f: 20\n",
      "376: c: 357 f: 20\n",
      "377: c: 358 f: 20\n",
      "378: c: 359 f: 20\n",
      "379: c: 360 f: 20\n",
      "380: c: 360 f: 21\n",
      "381: c: 361 f: 21\n",
      "382: c: 362 f: 21\n",
      "383: c: 363 f: 21\n",
      "384: c: 364 f: 21\n",
      "385: c: 365 f: 21\n",
      "386: c: 366 f: 21\n",
      "387: c: 367 f: 21\n",
      "388: c: 368 f: 21\n",
      "389: c: 369 f: 21\n",
      "390: c: 370 f: 21\n",
      "391: c: 371 f: 21\n",
      "392: c: 372 f: 21\n",
      "393: c: 373 f: 21\n",
      "394: c: 374 f: 21\n",
      "395: c: 375 f: 21\n",
      "396: c: 376 f: 21\n",
      "397: c: 377 f: 21\n",
      "398: c: 378 f: 21\n",
      "399: c: 379 f: 21\n",
      "400: c: 380 f: 21\n",
      "401: c: 381 f: 21\n",
      "402: c: 382 f: 21\n",
      "403: c: 383 f: 21\n",
      "404: c: 384 f: 21\n",
      "405: c: 385 f: 21\n",
      "406: c: 386 f: 21\n",
      "407: c: 387 f: 21\n",
      "408: c: 388 f: 21\n",
      "409: c: 389 f: 21\n",
      "410: c: 390 f: 21\n",
      "411: c: 391 f: 21\n",
      "412: c: 392 f: 21\n",
      "413: c: 393 f: 21\n",
      "414: c: 394 f: 21\n",
      "415: c: 395 f: 21\n",
      "416: c: 396 f: 21\n",
      "417: c: 397 f: 21\n",
      "418: c: 398 f: 21\n",
      "419: c: 399 f: 21\n",
      "420: c: 400 f: 21\n",
      "421: c: 401 f: 21\n",
      "422: c: 402 f: 21\n",
      "423: c: 403 f: 21\n",
      "424: c: 404 f: 21\n",
      "425: c: 405 f: 21\n",
      "426: c: 406 f: 21\n",
      "427: c: 407 f: 21\n",
      "428: c: 408 f: 21\n",
      "429: c: 409 f: 21\n",
      "430: c: 410 f: 21\n",
      "431: c: 411 f: 21\n",
      "432: c: 412 f: 21\n",
      "433: c: 413 f: 21\n",
      "434: c: 414 f: 21\n",
      "435: c: 415 f: 21\n",
      "436: c: 416 f: 21\n",
      "437: c: 417 f: 21\n",
      "438: c: 418 f: 21\n",
      "439: c: 419 f: 21\n",
      "440: c: 420 f: 21\n",
      "441: c: 421 f: 21\n",
      "442: c: 422 f: 21\n",
      "443: c: 423 f: 21\n",
      "444: c: 424 f: 21\n",
      "445: c: 425 f: 21\n",
      "446: c: 426 f: 21\n",
      "447: c: 427 f: 21\n",
      "448: c: 427 f: 22\n",
      "449: c: 428 f: 22\n",
      "450: c: 429 f: 22\n",
      "451: c: 430 f: 22\n",
      "452: c: 431 f: 22\n",
      "453: c: 432 f: 22\n",
      "454: c: 433 f: 22\n",
      "455: c: 434 f: 22\n",
      "456: c: 435 f: 22\n",
      "457: c: 436 f: 22\n",
      "458: c: 437 f: 22\n",
      "459: c: 437 f: 23\n",
      "460: c: 438 f: 23\n",
      "461: c: 439 f: 23\n",
      "462: c: 440 f: 23\n",
      "463: c: 441 f: 23\n",
      "464: c: 442 f: 23\n",
      "465: c: 443 f: 23\n",
      "466: c: 444 f: 23\n",
      "467: c: 444 f: 24\n",
      "468: c: 445 f: 24\n",
      "469: c: 446 f: 24\n",
      "470: c: 447 f: 24\n",
      "471: c: 448 f: 24\n",
      "472: c: 449 f: 24\n",
      "473: c: 450 f: 24\n",
      "474: c: 451 f: 24\n",
      "475: c: 452 f: 24\n",
      "476: c: 453 f: 24\n",
      "477: c: 454 f: 24\n",
      "478: c: 455 f: 24\n",
      "479: c: 456 f: 24\n",
      "480: c: 457 f: 24\n",
      "481: c: 458 f: 24\n",
      "482: c: 459 f: 24\n",
      "483: c: 460 f: 24\n",
      "484: c: 461 f: 24\n",
      "485: c: 462 f: 24\n",
      "486: c: 463 f: 24\n",
      "487: c: 464 f: 24\n",
      "488: c: 465 f: 24\n",
      "489: c: 466 f: 24\n",
      "490: c: 466 f: 25\n",
      "491: c: 467 f: 25\n",
      "492: c: 468 f: 25\n",
      "493: c: 469 f: 25\n",
      "494: c: 470 f: 25\n",
      "495: c: 471 f: 25\n",
      "496: c: 472 f: 25\n",
      "497: c: 473 f: 25\n",
      "498: c: 474 f: 25\n",
      "499: c: 475 f: 25\n",
      "500: c: 476 f: 25\n",
      "501: c: 477 f: 25\n",
      "502: c: 478 f: 25\n",
      "503: c: 478 f: 26\n",
      "504: c: 479 f: 26\n",
      "505: c: 480 f: 26\n",
      "506: c: 481 f: 26\n",
      "507: c: 482 f: 26\n",
      "508: c: 483 f: 26\n",
      "509: c: 484 f: 26\n",
      "510: c: 485 f: 26\n",
      "511: c: 486 f: 26\n",
      "512: c: 487 f: 26\n"
     ]
    },
    {
     "ename": "KeyboardInterrupt",
     "evalue": "",
     "output_type": "error",
     "traceback": [
      "\u001B[0;31m---------------------------------------------------------------------------\u001B[0m",
      "\u001B[0;31mKeyboardInterrupt\u001B[0m                         Traceback (most recent call last)",
      "\u001B[0;32m/tmp/ipykernel_60184/917633596.py\u001B[0m in \u001B[0;36m<module>\u001B[0;34m\u001B[0m\n\u001B[1;32m      4\u001B[0m \u001B[0;34m\u001B[0m\u001B[0m\n\u001B[1;32m      5\u001B[0m \u001B[0;32mfor\u001B[0m \u001B[0mindex\u001B[0m\u001B[0;34m,\u001B[0m \u001B[0mcurrentDataSet\u001B[0m \u001B[0;32min\u001B[0m \u001B[0menumerate\u001B[0m\u001B[0;34m(\u001B[0m\u001B[0mtestDataSet\u001B[0m\u001B[0;34m)\u001B[0m\u001B[0;34m:\u001B[0m\u001B[0;34m\u001B[0m\u001B[0;34m\u001B[0m\u001B[0m\n\u001B[0;32m----> 6\u001B[0;31m     \u001B[0mclassifiedAs\u001B[0m \u001B[0;34m=\u001B[0m \u001B[0mbruteforce1nn\u001B[0m\u001B[0;34m(\u001B[0m\u001B[0mcurrentDataSet\u001B[0m\u001B[0;34m,\u001B[0m \u001B[0mtrainDataSet\u001B[0m\u001B[0;34m)\u001B[0m\u001B[0;34m\u001B[0m\u001B[0;34m\u001B[0m\u001B[0m\n\u001B[0m\u001B[1;32m      7\u001B[0m     \u001B[0;32mif\u001B[0m \u001B[0mclassifiedAs\u001B[0m \u001B[0;34m==\u001B[0m \u001B[0mgetClassification\u001B[0m\u001B[0;34m(\u001B[0m\u001B[0mcurrentDataSet\u001B[0m\u001B[0;34m)\u001B[0m\u001B[0;34m:\u001B[0m\u001B[0;34m\u001B[0m\u001B[0;34m\u001B[0m\u001B[0m\n\u001B[1;32m      8\u001B[0m         \u001B[0mcorrect\u001B[0m \u001B[0;34m+=\u001B[0m \u001B[0;36m1\u001B[0m\u001B[0;34m\u001B[0m\u001B[0;34m\u001B[0m\u001B[0m\n",
      "\u001B[0;32m/tmp/ipykernel_60184/241304872.py\u001B[0m in \u001B[0;36mbruteforce1nn\u001B[0;34m(toClassify, trainSet)\u001B[0m\n\u001B[1;32m      5\u001B[0m     \u001B[0;32mfor\u001B[0m \u001B[0mcurrentIndex\u001B[0m \u001B[0;32min\u001B[0m \u001B[0mrange\u001B[0m\u001B[0;34m(\u001B[0m\u001B[0;36m0\u001B[0m\u001B[0;34m,\u001B[0m \u001B[0mlen\u001B[0m\u001B[0;34m(\u001B[0m\u001B[0mtrainSet\u001B[0m\u001B[0;34m)\u001B[0m\u001B[0;34m)\u001B[0m\u001B[0;34m:\u001B[0m\u001B[0;34m\u001B[0m\u001B[0;34m\u001B[0m\u001B[0m\n\u001B[1;32m      6\u001B[0m         \u001B[0mcurrentTrainData\u001B[0m \u001B[0;34m=\u001B[0m \u001B[0mtrainDataSet\u001B[0m\u001B[0;34m[\u001B[0m\u001B[0mcurrentIndex\u001B[0m\u001B[0;34m]\u001B[0m\u001B[0;34m\u001B[0m\u001B[0;34m\u001B[0m\u001B[0m\n\u001B[0;32m----> 7\u001B[0;31m         \u001B[0mcurrentDistance\u001B[0m \u001B[0;34m=\u001B[0m \u001B[0meuclideanDistance\u001B[0m\u001B[0;34m(\u001B[0m\u001B[0mgetMnistData\u001B[0m\u001B[0;34m(\u001B[0m\u001B[0mcurrentTrainData\u001B[0m\u001B[0;34m)\u001B[0m\u001B[0;34m,\u001B[0m \u001B[0mwithoutClassification\u001B[0m\u001B[0;34m)\u001B[0m\u001B[0;34m\u001B[0m\u001B[0;34m\u001B[0m\u001B[0m\n\u001B[0m\u001B[1;32m      8\u001B[0m         \u001B[0;32mif\u001B[0m \u001B[0msmallestDistance\u001B[0m \u001B[0;34m>\u001B[0m \u001B[0mcurrentDistance\u001B[0m\u001B[0;34m:\u001B[0m\u001B[0;34m\u001B[0m\u001B[0;34m\u001B[0m\u001B[0m\n\u001B[1;32m      9\u001B[0m             \u001B[0msmallestDistance\u001B[0m \u001B[0;34m=\u001B[0m \u001B[0mcurrentDistance\u001B[0m\u001B[0;34m\u001B[0m\u001B[0;34m\u001B[0m\u001B[0m\n",
      "\u001B[0;32m/tmp/ipykernel_60184/123449116.py\u001B[0m in \u001B[0;36mgetMnistData\u001B[0;34m(mnistDataEntry)\u001B[0m\n\u001B[1;32m      3\u001B[0m \u001B[0;34m\u001B[0m\u001B[0m\n\u001B[1;32m      4\u001B[0m \u001B[0;32mdef\u001B[0m \u001B[0mgetMnistData\u001B[0m\u001B[0;34m(\u001B[0m\u001B[0mmnistDataEntry\u001B[0m\u001B[0;34m:\u001B[0m \u001B[0mnumpy\u001B[0m\u001B[0;34m.\u001B[0m\u001B[0mndarray\u001B[0m\u001B[0;34m)\u001B[0m\u001B[0;34m:\u001B[0m\u001B[0;34m\u001B[0m\u001B[0;34m\u001B[0m\u001B[0m\n\u001B[0;32m----> 5\u001B[0;31m     \u001B[0;32mreturn\u001B[0m \u001B[0mnumpy\u001B[0m\u001B[0;34m.\u001B[0m\u001B[0mdelete\u001B[0m\u001B[0;34m(\u001B[0m\u001B[0mmnistDataEntry\u001B[0m\u001B[0;34m,\u001B[0m \u001B[0;34m[\u001B[0m\u001B[0;36m0\u001B[0m\u001B[0;34m]\u001B[0m\u001B[0;34m)\u001B[0m\u001B[0;34m\u001B[0m\u001B[0;34m\u001B[0m\u001B[0m\n\u001B[0m",
      "\u001B[0;32m<__array_function__ internals>\u001B[0m in \u001B[0;36mdelete\u001B[0;34m(*args, **kwargs)\u001B[0m\n",
      "\u001B[0;32m~/anaconda3/lib/python3.9/site-packages/numpy/lib/function_base.py\u001B[0m in \u001B[0;36mdelete\u001B[0;34m(arr, obj, axis)\u001B[0m\n\u001B[1;32m   4464\u001B[0m     \u001B[0;32melse\u001B[0m\u001B[0;34m:\u001B[0m\u001B[0;34m\u001B[0m\u001B[0;34m\u001B[0m\u001B[0m\n\u001B[1;32m   4465\u001B[0m         \u001B[0m_obj\u001B[0m \u001B[0;34m=\u001B[0m \u001B[0mobj\u001B[0m\u001B[0;34m\u001B[0m\u001B[0;34m\u001B[0m\u001B[0m\n\u001B[0;32m-> 4466\u001B[0;31m         \u001B[0mobj\u001B[0m \u001B[0;34m=\u001B[0m \u001B[0mnp\u001B[0m\u001B[0;34m.\u001B[0m\u001B[0masarray\u001B[0m\u001B[0;34m(\u001B[0m\u001B[0mobj\u001B[0m\u001B[0;34m)\u001B[0m\u001B[0;34m\u001B[0m\u001B[0;34m\u001B[0m\u001B[0m\n\u001B[0m\u001B[1;32m   4467\u001B[0m         \u001B[0;32mif\u001B[0m \u001B[0mobj\u001B[0m\u001B[0;34m.\u001B[0m\u001B[0msize\u001B[0m \u001B[0;34m==\u001B[0m \u001B[0;36m0\u001B[0m \u001B[0;32mand\u001B[0m \u001B[0;32mnot\u001B[0m \u001B[0misinstance\u001B[0m\u001B[0;34m(\u001B[0m\u001B[0m_obj\u001B[0m\u001B[0;34m,\u001B[0m \u001B[0mnp\u001B[0m\u001B[0;34m.\u001B[0m\u001B[0mndarray\u001B[0m\u001B[0;34m)\u001B[0m\u001B[0;34m:\u001B[0m\u001B[0;34m\u001B[0m\u001B[0;34m\u001B[0m\u001B[0m\n\u001B[1;32m   4468\u001B[0m             \u001B[0mobj\u001B[0m \u001B[0;34m=\u001B[0m \u001B[0mobj\u001B[0m\u001B[0;34m.\u001B[0m\u001B[0mastype\u001B[0m\u001B[0;34m(\u001B[0m\u001B[0mintp\u001B[0m\u001B[0;34m)\u001B[0m\u001B[0;34m\u001B[0m\u001B[0;34m\u001B[0m\u001B[0m\n",
      "\u001B[0;31mKeyboardInterrupt\u001B[0m: "
     ]
    }
   ],
   "source": [
    "correct = 0\n",
    "false = 0\n",
    "print(\"Total number of Test cases: \"+ str(len(testDataSet)))\n",
    "\n",
    "for index, currentDataSet in enumerate(testDataSet):\n",
    "    classifiedAs = bruteforce1nn(currentDataSet, trainDataSet)\n",
    "    if classifiedAs == getClassification(currentDataSet):\n",
    "        correct += 1\n",
    "    else:\n",
    "        false += 1\n",
    "    print(str(index) + \": c: \" + str(correct) + \" f: \" + str(false))\n",
    "\n",
    "accuracy = correct / len(testDataSet)\n",
    "print(\"Correct Classified: \" + str(correct))\n",
    "print(\"False Classified: \" + str(false))\n",
    "\n",
    "print(\"Accuracy: \" + str(accuracy))"
   ],
   "metadata": {
    "collapsed": false,
    "pycharm": {
     "name": "#%%\n"
    }
   }
  },
  {
   "cell_type": "markdown",
   "source": [
    "## Next Approach: Don't calculate iteratively but use pre build optimized spacial package."
   ],
   "metadata": {
    "collapsed": false
   }
  },
  {
   "cell_type": "code",
   "execution_count": 6,
   "outputs": [],
   "source": [
    "distanceMatrix = spatial.distance.cdist(testData, trainData, metric='euclid')"
   ],
   "metadata": {
    "collapsed": false,
    "pycharm": {
     "name": "#%%\n"
    }
   }
  },
  {
   "cell_type": "code",
   "execution_count": 7,
   "outputs": [
    {
     "name": "stdout",
     "output_type": "stream",
     "text": [
      "1274.0616154644954\n",
      "23518\n",
      "1349.6914462202092\n"
     ]
    }
   ],
   "source": [
    "print(distanceMatrix[1].min())\n",
    "print(numpy.argmin(distanceMatrix[1]))\n",
    "print(distanceMatrix[1,261])"
   ],
   "metadata": {
    "collapsed": false,
    "pycharm": {
     "name": "#%%\n"
    }
   }
  },
  {
   "cell_type": "code",
   "execution_count": 12,
   "outputs": [
    {
     "name": "stdout",
     "output_type": "stream",
     "text": [
      "1.0\n"
     ]
    }
   ],
   "source": [
    "def getDistanceMatrix(testData, trainData, metric):\n",
    "    return  spatial.distance.cdist(getOnlyData(testData), getOnlyData(trainData), metric=metric)\n",
    "\n",
    "\n",
    "def getAllClassifications(dataMatrix: numpy.matrix):\n",
    "    return numpy.squeeze(numpy.asarray(dataMatrix[:,0]))\n",
    "\n",
    "def getOnlyData(dataMatrix: numpy.matrix):\n",
    "    return numpy.asarray(dataMatrix[:,1:])\n",
    "\n",
    "\n",
    "def getKNearestNeightbourIndices(distanceMatrix: numpy.ndarray, k):\n",
    "    return numpy.argpartition(distanceMatrix,k)[:,:k]\n",
    "\n",
    "def performKNearestNeighbour(distances, trainDataToUse, testDataToUse, k):\n",
    "    neighrestNeighbours = getKNearestNeightbourIndices(distances, k)\n",
    "    classifications = getAllClassifications(trainDataToUse)[neighrestNeighbours]\n",
    "    return classifications\n",
    "\n",
    "def getCorrectness(madeClassifications, trueClassifications):\n",
    "     subtractedClassifications = numpy.subtract(trueClassifications, madeClassifications)\n",
    "     numberOfFalse = numpy.count_nonzero(subtractedClassifications)\n",
    "     return 1 - (numberOfFalse / len(testClassification))\n",
    "\n",
    "classifications1 = performKNearestNeighbour(distanceMatrix, trainData, testData, 1)\n",
    "print(getCorrectness(classifications1, getAllClassifications(testData)))\n"
   ],
   "metadata": {
    "collapsed": false,
    "pycharm": {
     "name": "#%%\n"
    }
   }
  },
  {
   "cell_type": "code",
   "execution_count": null,
   "outputs": [],
   "source": [
    "distanceMatrix = getDistanceMatrix(testData, trainData, 'euclid')\n"
   ],
   "metadata": {
    "collapsed": false,
    "pycharm": {
     "name": "#%%\n"
    }
   }
  },
  {
   "cell_type": "code",
   "execution_count": 11,
   "outputs": [
    {
     "name": "stdout",
     "output_type": "stream",
     "text": [
      "[[0. 0. 0. ... 0. 0. 0.]\n",
      " [0. 0. 0. ... 0. 0. 0.]\n",
      " [0. 0. 0. ... 0. 0. 0.]\n",
      " ...\n",
      " [0. 0. 0. ... 0. 0. 0.]\n",
      " [0. 0. 0. ... 0. 0. 0.]\n",
      " [0. 0. 0. ... 0. 0. 0.]]\n",
      "1274.0616154644954\n",
      "23518\n",
      "1349.6914462202092\n",
      "0.0\n"
     ]
    }
   ],
   "source": [
    "print(getOnlyData(testData))\n",
    "print(distanceMatrix[1].min())\n",
    "print(numpy.argmin(distanceMatrix[1]))\n",
    "print(distanceMatrix[1,261])\n",
    "print(classifications1.min())"
   ],
   "metadata": {
    "collapsed": false,
    "pycharm": {
     "name": "#%%\n"
    }
   }
  },
  {
   "cell_type": "code",
   "execution_count": null,
   "outputs": [],
   "source": [],
   "metadata": {
    "collapsed": false,
    "pycharm": {
     "name": "#%%\n"
    }
   }
  }
 ],
 "metadata": {
  "kernelspec": {
   "display_name": "Python 3",
   "language": "python",
   "name": "python3"
  },
  "language_info": {
   "codemirror_mode": {
    "name": "ipython",
    "version": 2
   },
   "file_extension": ".py",
   "mimetype": "text/x-python",
   "name": "python",
   "nbconvert_exporter": "python",
   "pygments_lexer": "ipython2",
   "version": "2.7.6"
  }
 },
 "nbformat": 4,
 "nbformat_minor": 0
}