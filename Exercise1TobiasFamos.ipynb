{
 "cells": [
  {
   "cell_type": "markdown",
   "source": [
    "# First Exercise for Pattern Recognition\n",
    "\n",
    "**Goal:** Implement a KNN (K nearest neighbour) classification algorithm from scratch\n",
    "\n",
    "## Overview of the approach\n",
    "1. Read the data from the MNIST Dataset\n",
    "2. Write KNN Classification Algorithm\n",
    "4. Run the classification function over the train set to parametrise the mode\n",
    "5. Test the outcome with the test set"
   ],
   "metadata": {
    "collapsed": false
   }
  },
  {
   "cell_type": "markdown",
   "source": [
    "Import needed packages"
   ],
   "metadata": {
    "collapsed": false
   }
  },
  {
   "cell_type": "code",
   "execution_count": 28,
   "outputs": [],
   "source": [
    "import numpy\n",
    "from math import sqrt, pow"
   ],
   "metadata": {
    "collapsed": false,
    "pycharm": {
     "name": "#%%\n"
    }
   }
  },
  {
   "cell_type": "markdown",
   "source": [
    "Define Reading function for file paths"
   ],
   "metadata": {
    "collapsed": false
   }
  },
  {
   "cell_type": "code",
   "execution_count": 29,
   "metadata": {
    "collapsed": true
   },
   "outputs": [],
   "source": [
    "def readMnistData(filePath):\n",
    "    return numpy.genfromtxt(filePath, delimiter=\",\")"
   ]
  },
  {
   "cell_type": "code",
   "execution_count": 30,
   "outputs": [],
   "source": [
    "def getClassification(mnistDataEntry: numpy.ndarray):\n",
    "    return mnistDataEntry[0]\n",
    "\n",
    "def getMnistData(mnistDataEntry: numpy.ndarray):\n",
    "    return numpy.delete(mnistDataEntry, [0])"
   ],
   "metadata": {
    "collapsed": false,
    "pycharm": {
     "name": "#%%\n"
    }
   }
  },
  {
   "cell_type": "markdown",
   "source": [
    "Define finding the euclidean distance"
   ],
   "metadata": {
    "collapsed": false
   }
  },
  {
   "cell_type": "code",
   "execution_count": 31,
   "outputs": [],
   "source": [
    "def euclideanDistance(vectorA: numpy.ndarray, vectorB: numpy.ndarray):\n",
    "    if vectorA.shape != vectorB.shape:\n",
    "        raise Exception(\"Vectors must have the same shape\")\n",
    "    else:\n",
    "        sumOfSquares = 0\n",
    "        for currentIndex in range(0, len(vectorA)):\n",
    "            sumOfSquares += pow(vectorA[currentIndex] - vectorB[currentIndex], 2)\n",
    "        return sqrt(sumOfSquares)"
   ],
   "metadata": {
    "collapsed": false,
    "pycharm": {
     "name": "#%%\n"
    }
   }
  },
  {
   "cell_type": "markdown",
   "source": [
    "Read the train file"
   ],
   "metadata": {
    "collapsed": false
   }
  },
  {
   "cell_type": "code",
   "execution_count": 32,
   "outputs": [],
   "source": [
    "trainDataSet = readMnistData(\"train.csv\")\n",
    "testDataSet = readMnistData(\"test.csv\")"
   ],
   "metadata": {
    "collapsed": false,
    "pycharm": {
     "name": "#%%\n"
    }
   }
  },
  {
   "cell_type": "markdown",
   "source": [
    "First try to brute force one classification"
   ],
   "metadata": {
    "collapsed": false
   }
  },
  {
   "cell_type": "code",
   "execution_count": 32,
   "outputs": [],
   "source": [],
   "metadata": {
    "collapsed": false,
    "pycharm": {
     "name": "#%%\n"
    }
   }
  },
  {
   "cell_type": "markdown",
   "source": [
    "## Brute force\n",
    "Here follows the first try with just a brute force approach with no optimizations. The programm runs extremely slow."
   ],
   "metadata": {
    "collapsed": false
   }
  },
  {
   "cell_type": "code",
   "execution_count": 36,
   "outputs": [],
   "source": [
    "def bruteforce1nn(toClassify: numpy.ndarray, trainSet: numpy.ndarray):\n",
    "    withoutClassification = getMnistData(toClassify)\n",
    "    smallestDistance = 100000\n",
    "    bestCurrentClassifier = -1\n",
    "    for currentIndex in range(0, len(trainSet)):\n",
    "        currentTrainData = trainDataSet[currentIndex]\n",
    "        currentDistance = euclideanDistance(getMnistData(currentTrainData), withoutClassification)\n",
    "        if smallestDistance > currentDistance:\n",
    "            smallestDistance = currentDistance\n",
    "            bestCurrentClassifier = getClassification(currentTrainData)\n",
    "    return bestCurrentClassifier\n",
    "\n",
    "\n",
    "def checkClassification(classification, toClassify: numpy.ndarray):\n",
    "    return classification == getClassification(toClassify)"
   ],
   "metadata": {
    "collapsed": false,
    "pycharm": {
     "name": "#%%\n"
    }
   }
  },
  {
   "cell_type": "code",
   "execution_count": null,
   "outputs": [],
   "source": [],
   "metadata": {
    "collapsed": false,
    "pycharm": {
     "name": "#%%\n"
    }
   }
  },
  {
   "cell_type": "code",
   "execution_count": 39,
   "outputs": [
    {
     "name": "stdout",
     "output_type": "stream",
     "text": [
      "Correct\n",
      "Correct\n",
      "Correct\n",
      "Correct\n",
      "Correct\n",
      "Correct\n",
      "Correct\n",
      "Correct\n",
      "Correct\n",
      "Correct\n",
      "Correct\n",
      "Correct\n"
     ]
    },
    {
     "ename": "KeyboardInterrupt",
     "evalue": "",
     "output_type": "error",
     "traceback": [
      "\u001B[0;31m---------------------------------------------------------------------------\u001B[0m",
      "\u001B[0;31mKeyboardInterrupt\u001B[0m                         Traceback (most recent call last)",
      "\u001B[0;32m/tmp/ipykernel_291101/1855850994.py\u001B[0m in \u001B[0;36m<module>\u001B[0;34m\u001B[0m\n\u001B[1;32m      2\u001B[0m \u001B[0mfaulty\u001B[0m \u001B[0;34m=\u001B[0m \u001B[0;36m0\u001B[0m\u001B[0;34m\u001B[0m\u001B[0;34m\u001B[0m\u001B[0m\n\u001B[1;32m      3\u001B[0m \u001B[0;32mfor\u001B[0m \u001B[0mcurrentDataSet\u001B[0m \u001B[0;32min\u001B[0m \u001B[0mtestDataSet\u001B[0m\u001B[0;34m:\u001B[0m\u001B[0;34m\u001B[0m\u001B[0;34m\u001B[0m\u001B[0m\n\u001B[0;32m----> 4\u001B[0;31m     \u001B[0mclassification\u001B[0m \u001B[0;34m=\u001B[0m \u001B[0mbruteforce1nn\u001B[0m\u001B[0;34m(\u001B[0m\u001B[0mcurrentDataSet\u001B[0m\u001B[0;34m,\u001B[0m \u001B[0mtrainDataSet\u001B[0m\u001B[0;34m)\u001B[0m\u001B[0;34m\u001B[0m\u001B[0;34m\u001B[0m\u001B[0m\n\u001B[0m\u001B[1;32m      5\u001B[0m     \u001B[0misCorrect\u001B[0m \u001B[0;34m=\u001B[0m \u001B[0mcheckClassification\u001B[0m\u001B[0;34m(\u001B[0m\u001B[0mclassification\u001B[0m\u001B[0;34m,\u001B[0m \u001B[0mcurrentDataSet\u001B[0m\u001B[0;34m)\u001B[0m\u001B[0;34m\u001B[0m\u001B[0;34m\u001B[0m\u001B[0m\n\u001B[1;32m      6\u001B[0m     \u001B[0;32mif\u001B[0m \u001B[0misCorrect\u001B[0m\u001B[0;34m:\u001B[0m\u001B[0;34m\u001B[0m\u001B[0;34m\u001B[0m\u001B[0m\n",
      "\u001B[0;32m/tmp/ipykernel_291101/241304872.py\u001B[0m in \u001B[0;36mbruteforce1nn\u001B[0;34m(toClassify, trainSet)\u001B[0m\n\u001B[1;32m      5\u001B[0m     \u001B[0;32mfor\u001B[0m \u001B[0mcurrentIndex\u001B[0m \u001B[0;32min\u001B[0m \u001B[0mrange\u001B[0m\u001B[0;34m(\u001B[0m\u001B[0;36m0\u001B[0m\u001B[0;34m,\u001B[0m \u001B[0mlen\u001B[0m\u001B[0;34m(\u001B[0m\u001B[0mtrainSet\u001B[0m\u001B[0;34m)\u001B[0m\u001B[0;34m)\u001B[0m\u001B[0;34m:\u001B[0m\u001B[0;34m\u001B[0m\u001B[0;34m\u001B[0m\u001B[0m\n\u001B[1;32m      6\u001B[0m         \u001B[0mcurrentTrainData\u001B[0m \u001B[0;34m=\u001B[0m \u001B[0mtrainDataSet\u001B[0m\u001B[0;34m[\u001B[0m\u001B[0mcurrentIndex\u001B[0m\u001B[0;34m]\u001B[0m\u001B[0;34m\u001B[0m\u001B[0;34m\u001B[0m\u001B[0m\n\u001B[0;32m----> 7\u001B[0;31m         \u001B[0mcurrentDistance\u001B[0m \u001B[0;34m=\u001B[0m \u001B[0meuclideanDistance\u001B[0m\u001B[0;34m(\u001B[0m\u001B[0mgetMnistData\u001B[0m\u001B[0;34m(\u001B[0m\u001B[0mcurrentTrainData\u001B[0m\u001B[0;34m)\u001B[0m\u001B[0;34m,\u001B[0m \u001B[0mwithoutClassification\u001B[0m\u001B[0;34m)\u001B[0m\u001B[0;34m\u001B[0m\u001B[0;34m\u001B[0m\u001B[0m\n\u001B[0m\u001B[1;32m      8\u001B[0m         \u001B[0;32mif\u001B[0m \u001B[0msmallestDistance\u001B[0m \u001B[0;34m>\u001B[0m \u001B[0mcurrentDistance\u001B[0m\u001B[0;34m:\u001B[0m\u001B[0;34m\u001B[0m\u001B[0;34m\u001B[0m\u001B[0m\n\u001B[1;32m      9\u001B[0m             \u001B[0msmallestDistance\u001B[0m \u001B[0;34m=\u001B[0m \u001B[0mcurrentDistance\u001B[0m\u001B[0;34m\u001B[0m\u001B[0;34m\u001B[0m\u001B[0m\n",
      "\u001B[0;32m/tmp/ipykernel_291101/4026899452.py\u001B[0m in \u001B[0;36meuclideanDistance\u001B[0;34m(vectorA, vectorB)\u001B[0m\n\u001B[1;32m      5\u001B[0m         \u001B[0msumOfSquares\u001B[0m \u001B[0;34m=\u001B[0m \u001B[0;36m0\u001B[0m\u001B[0;34m\u001B[0m\u001B[0;34m\u001B[0m\u001B[0m\n\u001B[1;32m      6\u001B[0m         \u001B[0;32mfor\u001B[0m \u001B[0mcurrentIndex\u001B[0m \u001B[0;32min\u001B[0m \u001B[0mrange\u001B[0m\u001B[0;34m(\u001B[0m\u001B[0;36m0\u001B[0m\u001B[0;34m,\u001B[0m \u001B[0mlen\u001B[0m\u001B[0;34m(\u001B[0m\u001B[0mvectorA\u001B[0m\u001B[0;34m)\u001B[0m\u001B[0;34m)\u001B[0m\u001B[0;34m:\u001B[0m\u001B[0;34m\u001B[0m\u001B[0;34m\u001B[0m\u001B[0m\n\u001B[0;32m----> 7\u001B[0;31m             \u001B[0msumOfSquares\u001B[0m \u001B[0;34m+=\u001B[0m \u001B[0mpow\u001B[0m\u001B[0;34m(\u001B[0m\u001B[0mvectorA\u001B[0m\u001B[0;34m[\u001B[0m\u001B[0mcurrentIndex\u001B[0m\u001B[0;34m]\u001B[0m \u001B[0;34m-\u001B[0m \u001B[0mvectorB\u001B[0m\u001B[0;34m[\u001B[0m\u001B[0mcurrentIndex\u001B[0m\u001B[0;34m]\u001B[0m\u001B[0;34m,\u001B[0m \u001B[0;36m2\u001B[0m\u001B[0;34m)\u001B[0m\u001B[0;34m\u001B[0m\u001B[0;34m\u001B[0m\u001B[0m\n\u001B[0m\u001B[1;32m      8\u001B[0m         \u001B[0;32mreturn\u001B[0m \u001B[0msqrt\u001B[0m\u001B[0;34m(\u001B[0m\u001B[0msumOfSquares\u001B[0m\u001B[0;34m)\u001B[0m\u001B[0;34m\u001B[0m\u001B[0;34m\u001B[0m\u001B[0m\n",
      "\u001B[0;31mKeyboardInterrupt\u001B[0m: "
     ]
    }
   ],
   "source": [
    "correct = 0\n",
    "faulty = 0\n",
    "for currentDataSet in testDataSet:\n",
    "    classification = bruteforce1nn(currentDataSet, trainDataSet)\n",
    "    isCorrect = checkClassification(classification, currentDataSet)\n",
    "    if isCorrect:\n",
    "        correct+= 1\n",
    "        print(\"Correct\")\n",
    "    else:\n",
    "        faulty+= 1\n",
    "        print(\"Faulty\")\n",
    "print(\"correct: \" + correct)\n",
    "print(\"Not Correct \" + faulty)"
   ],
   "metadata": {
    "collapsed": false,
    "pycharm": {
     "name": "#%%\n"
    }
   }
  },
  {
   "cell_type": "code",
   "execution_count": null,
   "outputs": [],
   "source": [],
   "metadata": {
    "collapsed": false,
    "pycharm": {
     "name": "#%%\n"
    }
   }
  }
 ],
 "metadata": {
  "kernelspec": {
   "display_name": "Python 3",
   "language": "python",
   "name": "python3"
  },
  "language_info": {
   "codemirror_mode": {
    "name": "ipython",
    "version": 2
   },
   "file_extension": ".py",
   "mimetype": "text/x-python",
   "name": "python",
   "nbconvert_exporter": "python",
   "pygments_lexer": "ipython2",
   "version": "2.7.6"
  }
 },
 "nbformat": 4,
 "nbformat_minor": 0
}